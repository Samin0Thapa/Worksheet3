{
  "nbformat": 4,
  "nbformat_minor": 0,
  "metadata": {
    "colab": {
      "provenance": []
    },
    "kernelspec": {
      "name": "python3",
      "display_name": "Python 3"
    },
    "language_info": {
      "name": "python"
    }
  },
  "cells": [
    {
      "cell_type": "code",
      "execution_count": 1,
      "metadata": {
        "id": "fPm7J_JihQG_"
      },
      "outputs": [],
      "source": [
        "import pandas as pd\n",
        "import numpy as np\n",
        "titanic_df = pd.read_csv('/content/drive/MyDrive/Concept and Technologies of AI/Titanic-Dataset.csv')\n"
      ]
    },
    {
      "cell_type": "code",
      "source": [
        "#Problem1\n",
        "#Task1\n",
        "fare = titanic_df[['Fare']]\n",
        "print(\"Fare DataFrame\")\n",
        "print(fare.head())"
      ],
      "metadata": {
        "colab": {
          "base_uri": "https://localhost:8080/"
        },
        "id": "Utp88w69gokm",
        "outputId": "9be18259-c598-4663-9a81-025c36984513"
      },
      "execution_count": 2,
      "outputs": [
        {
          "output_type": "stream",
          "name": "stdout",
          "text": [
            "Fare DataFrame\n",
            "      Fare\n",
            "0   7.2500\n",
            "1  71.2833\n",
            "2   7.9250\n",
            "3  53.1000\n",
            "4   8.0500\n"
          ]
        }
      ]
    },
    {
      "cell_type": "code",
      "source": [
        "#Task2\n",
        "class_age = titanic_df[['Pclass', 'Age']]\n",
        "print(\"Pclass and Age DataFrame\")\n",
        "print(class_age.head())"
      ],
      "metadata": {
        "colab": {
          "base_uri": "https://localhost:8080/"
        },
        "id": "8pUlCBSngyp-",
        "outputId": "43c1b8f8-1292-450b-f6fd-2768996409e6"
      },
      "execution_count": 3,
      "outputs": [
        {
          "output_type": "stream",
          "name": "stdout",
          "text": [
            "Pclass and Age DataFrame\n",
            "   Pclass   Age\n",
            "0       3  22.0\n",
            "1       1  38.0\n",
            "2       3  26.0\n",
            "3       1  35.0\n",
            "4       3  35.0\n"
          ]
        }
      ]
    },
    {
      "cell_type": "code",
      "source": [
        "#Task3\n",
        "survived_gender = titanic_df[['Survived', 'Sex']]\n",
        "print(\"Survived and Sex DataFrame\")\n",
        "print(survived_gender.head())"
      ],
      "metadata": {
        "colab": {
          "base_uri": "https://localhost:8080/"
        },
        "id": "uGLqO9Y-hBVv",
        "outputId": "b4fb2a07-ee03-4097-ff0d-44dd578c58e0"
      },
      "execution_count": 4,
      "outputs": [
        {
          "output_type": "stream",
          "name": "stdout",
          "text": [
            "Survived and Sex DataFrame\n",
            "   Survived     Sex\n",
            "0         0    male\n",
            "1         1  female\n",
            "2         1  female\n",
            "3         1  female\n",
            "4         0    male\n"
          ]
        }
      ]
    },
    {
      "cell_type": "code",
      "source": [
        "#Problem2\n",
        "#Task1\n",
        "fare_gt_100 = titanic_df[titanic_df['Fare'] > 100]\n",
        "print(\"Passengers with Fare > 100\")\n",
        "print(fare_gt_100.head())"
      ],
      "metadata": {
        "colab": {
          "base_uri": "https://localhost:8080/"
        },
        "id": "QLXrrgtrhQN9",
        "outputId": "6c01de3c-3658-4f58-9f96-1bc0a27ba783"
      },
      "execution_count": 5,
      "outputs": [
        {
          "output_type": "stream",
          "name": "stdout",
          "text": [
            "Passengers with Fare > 100\n",
            "     PassengerId  Survived  Pclass  \\\n",
            "27            28         0       1   \n",
            "31            32         1       1   \n",
            "88            89         1       1   \n",
            "118          119         0       1   \n",
            "195          196         1       1   \n",
            "\n",
            "                                               Name     Sex   Age  SibSp  \\\n",
            "27                   Fortune, Mr. Charles Alexander    male  19.0      3   \n",
            "31   Spencer, Mrs. William Augustus (Marie Eugenie)  female   NaN      1   \n",
            "88                       Fortune, Miss. Mabel Helen  female  23.0      3   \n",
            "118                        Baxter, Mr. Quigg Edmond    male  24.0      0   \n",
            "195                            Lurette, Miss. Elise  female  58.0      0   \n",
            "\n",
            "     Parch    Ticket      Fare        Cabin Embarked  \n",
            "27       2     19950  263.0000  C23 C25 C27        S  \n",
            "31       0  PC 17569  146.5208          B78        C  \n",
            "88       2     19950  263.0000  C23 C25 C27        S  \n",
            "118      1  PC 17558  247.5208      B58 B60        C  \n",
            "195      0  PC 17569  146.5208          B80        C  \n"
          ]
        }
      ]
    },
    {
      "cell_type": "code",
      "source": [
        "#Task2\n",
        "first_class = titanic_df[titanic_df['Pclass'] == 1]\n",
        "print(\"First Class Passengers\")\n",
        "print(first_class.head())"
      ],
      "metadata": {
        "colab": {
          "base_uri": "https://localhost:8080/"
        },
        "id": "Df4928rhhWA3",
        "outputId": "c091a950-2fd3-47b3-e354-3aea56e2312a"
      },
      "execution_count": 6,
      "outputs": [
        {
          "output_type": "stream",
          "name": "stdout",
          "text": [
            "First Class Passengers\n",
            "    PassengerId  Survived  Pclass  \\\n",
            "1             2         1       1   \n",
            "3             4         1       1   \n",
            "6             7         0       1   \n",
            "11           12         1       1   \n",
            "23           24         1       1   \n",
            "\n",
            "                                                 Name     Sex   Age  SibSp  \\\n",
            "1   Cumings, Mrs. John Bradley (Florence Briggs Th...  female  38.0      1   \n",
            "3        Futrelle, Mrs. Jacques Heath (Lily May Peel)  female  35.0      1   \n",
            "6                             McCarthy, Mr. Timothy J    male  54.0      0   \n",
            "11                           Bonnell, Miss. Elizabeth  female  58.0      0   \n",
            "23                       Sloper, Mr. William Thompson    male  28.0      0   \n",
            "\n",
            "    Parch    Ticket     Fare Cabin Embarked  \n",
            "1       0  PC 17599  71.2833   C85        C  \n",
            "3       0    113803  53.1000  C123        S  \n",
            "6       0     17463  51.8625   E46        S  \n",
            "11      0    113783  26.5500  C103        S  \n",
            "23      0    113788  35.5000    A6        S  \n"
          ]
        }
      ]
    },
    {
      "cell_type": "code",
      "source": [
        "#Task3\n",
        "female_under_18 = titanic_df[(titanic_df['Age'] < 18) & (titanic_df['Sex'] == 'female')]\n",
        "print(\"Female Passengers Under 18\")\n",
        "print(female_under_18.head())"
      ],
      "metadata": {
        "colab": {
          "base_uri": "https://localhost:8080/"
        },
        "id": "X0SOxhWXho-A",
        "outputId": "5b21bdb1-4219-47f2-b62a-93fc6a0f1fa5"
      },
      "execution_count": 7,
      "outputs": [
        {
          "output_type": "stream",
          "name": "stdout",
          "text": [
            "Female Passengers Under 18\n",
            "    PassengerId  Survived  Pclass                                  Name  \\\n",
            "9            10         1       2   Nasser, Mrs. Nicholas (Adele Achem)   \n",
            "10           11         1       3       Sandstrom, Miss. Marguerite Rut   \n",
            "14           15         0       3  Vestrom, Miss. Hulda Amanda Adolfina   \n",
            "22           23         1       3           McGowan, Miss. Anna \"Annie\"   \n",
            "24           25         0       3         Palsson, Miss. Torborg Danira   \n",
            "\n",
            "       Sex   Age  SibSp  Parch   Ticket     Fare Cabin Embarked  \n",
            "9   female  14.0      1      0   237736  30.0708   NaN        C  \n",
            "10  female   4.0      1      1  PP 9549  16.7000    G6        S  \n",
            "14  female  14.0      0      0   350406   7.8542   NaN        S  \n",
            "22  female  15.0      0      0   330923   8.0292   NaN        Q  \n",
            "24  female   8.0      3      1   349909  21.0750   NaN        S  \n"
          ]
        }
      ]
    },
    {
      "cell_type": "code",
      "source": [
        "#Subsetting Rows by Categorical Variables\n",
        "#Task1\n",
        "embarked_c_or_s = titanic_df[titanic_df['Embarked'].isin(['C', 'S'])]\n",
        "print(\"Passengers from Cherbourg or Southampton\")\n",
        "print(embarked_c_or_s.head())"
      ],
      "metadata": {
        "colab": {
          "base_uri": "https://localhost:8080/"
        },
        "id": "pkWoWD8zhvbh",
        "outputId": "6b87cdaf-9069-4567-f581-00c3497ee0b9"
      },
      "execution_count": 8,
      "outputs": [
        {
          "output_type": "stream",
          "name": "stdout",
          "text": [
            "Passengers from Cherbourg or Southampton\n",
            "   PassengerId  Survived  Pclass  \\\n",
            "0            1         0       3   \n",
            "1            2         1       1   \n",
            "2            3         1       3   \n",
            "3            4         1       1   \n",
            "4            5         0       3   \n",
            "\n",
            "                                                Name     Sex   Age  SibSp  \\\n",
            "0                            Braund, Mr. Owen Harris    male  22.0      1   \n",
            "1  Cumings, Mrs. John Bradley (Florence Briggs Th...  female  38.0      1   \n",
            "2                             Heikkinen, Miss. Laina  female  26.0      0   \n",
            "3       Futrelle, Mrs. Jacques Heath (Lily May Peel)  female  35.0      1   \n",
            "4                           Allen, Mr. William Henry    male  35.0      0   \n",
            "\n",
            "   Parch            Ticket     Fare Cabin Embarked  \n",
            "0      0         A/5 21171   7.2500   NaN        S  \n",
            "1      0          PC 17599  71.2833   C85        C  \n",
            "2      0  STON/O2. 3101282   7.9250   NaN        S  \n",
            "3      0            113803  53.1000  C123        S  \n",
            "4      0            373450   8.0500   NaN        S  \n"
          ]
        }
      ]
    },
    {
      "cell_type": "code",
      "source": [
        "#Task2\n",
        "first_second_class = titanic_df[titanic_df['Pclass'].isin([1, 2])]\n",
        "print(\"First and Second Class Passengers\")\n",
        "print(first_second_class.head())"
      ],
      "metadata": {
        "id": "1aaun_f8iB9d",
        "colab": {
          "base_uri": "https://localhost:8080/"
        },
        "outputId": "6c3da3c4-503d-48b7-e78b-d4143fff1fec"
      },
      "execution_count": 9,
      "outputs": [
        {
          "output_type": "stream",
          "name": "stdout",
          "text": [
            "First and Second Class Passengers\n",
            "    PassengerId  Survived  Pclass  \\\n",
            "1             2         1       1   \n",
            "3             4         1       1   \n",
            "6             7         0       1   \n",
            "9            10         1       2   \n",
            "11           12         1       1   \n",
            "\n",
            "                                                 Name     Sex   Age  SibSp  \\\n",
            "1   Cumings, Mrs. John Bradley (Florence Briggs Th...  female  38.0      1   \n",
            "3        Futrelle, Mrs. Jacques Heath (Lily May Peel)  female  35.0      1   \n",
            "6                             McCarthy, Mr. Timothy J    male  54.0      0   \n",
            "9                 Nasser, Mrs. Nicholas (Adele Achem)  female  14.0      1   \n",
            "11                           Bonnell, Miss. Elizabeth  female  58.0      0   \n",
            "\n",
            "    Parch    Ticket     Fare Cabin Embarked  \n",
            "1       0  PC 17599  71.2833   C85        C  \n",
            "3       0    113803  53.1000  C123        S  \n",
            "6       0     17463  51.8625   E46        S  \n",
            "9       0    237736  30.0708   NaN        C  \n",
            "11      0    113783  26.5500  C103        S  \n"
          ]
        }
      ]
    },
    {
      "cell_type": "code",
      "source": [
        "#Exploratory Data Analysis Practice\n",
        "#Exercise - 1\n",
        "#First question\n",
        "\n",
        "#1\n",
        "titanic_df['fare_per_year'] = titanic_df['Fare'] / titanic_df['Age']\n",
        "#2\n",
        "high_fare_age = titanic_df[titanic_df['fare_per_year'] > 5]\n",
        "#3\n",
        "high_fare_age_srt = high_fare_age.sort_values('fare_per_year', ascending=False)\n",
        "#4\n",
        "result = high_fare_age_srt[['Name', 'fare_per_year']]\n",
        "#5\n",
        "print(\"Passengers with High Fare per Year\")\n",
        "print(result)"
      ],
      "metadata": {
        "colab": {
          "base_uri": "https://localhost:8080/"
        },
        "id": "2dMtrCsxrxIq",
        "outputId": "9206c4df-b775-4869-b44d-5c1ba5f7e67d"
      },
      "execution_count": 10,
      "outputs": [
        {
          "output_type": "stream",
          "name": "stdout",
          "text": [
            "Passengers with High Fare per Year\n",
            "                                       Name  fare_per_year\n",
            "305          Allison, Master. Hudson Trevor     164.728261\n",
            "297            Allison, Miss. Helen Loraine      75.775000\n",
            "386         Goodwin, Master. Sidney Leonard      46.900000\n",
            "164            Panula, Master. Eino Viljami      39.687500\n",
            "183               Becker, Master. Richard F      39.000000\n",
            "..                                      ...            ...\n",
            "318                Wick, Miss. Mary Natalie       5.318281\n",
            "348  Coutts, Master. William Loch \"William\"       5.300000\n",
            "205              Strom, Miss. Telma Matilda       5.231250\n",
            "813      Andersson, Miss. Ebba Iris Alfrida       5.212500\n",
            "480          Goodwin, Master. Harold Victor       5.211111\n",
            "\n",
            "[68 rows x 2 columns]\n"
          ]
        }
      ]
    },
    {
      "cell_type": "code",
      "source": [
        "#Second question\n",
        "\n",
        "#1\n",
        "titanic_df['fare_per_class'] = titanic_df['Fare'] / titanic_df['Pclass']\n",
        "#2\n",
        "adult_males = titanic_df[(titanic_df['Sex'] == 'male') & (titanic_df['Age'] >= 18)]\n",
        "#3\n",
        "adult_males_srt = adult_males.sort_values('fare_per_class', ascending=False)\n",
        "#4\n",
        "result = adult_males_srt[['Name', 'Age', 'fare_per_class']]\n",
        "#5\n",
        "print(\"Adult Male Passengers with High Fare per Class\")\n",
        "print(result)"
      ],
      "metadata": {
        "colab": {
          "base_uri": "https://localhost:8080/"
        },
        "id": "94zq9yXysmMP",
        "outputId": "4e9a8c96-1041-4005-cab8-65228933388d"
      },
      "execution_count": 11,
      "outputs": [
        {
          "output_type": "stream",
          "name": "stdout",
          "text": [
            "Adult Male Passengers with High Fare per Class\n",
            "                                   Name   Age  fare_per_class\n",
            "737              Lesurer, Mr. Gustave J  35.0        512.3292\n",
            "679  Cardeza, Mr. Thomas Drake Martinez  36.0        512.3292\n",
            "27       Fortune, Mr. Charles Alexander  19.0        263.0000\n",
            "438                   Fortune, Mr. Mark  64.0        263.0000\n",
            "118            Baxter, Mr. Quigg Edmond  24.0        247.5208\n",
            "..                                  ...   ...             ...\n",
            "271        Tornquist, Mr. William Henry  25.0          0.0000\n",
            "179                 Leonard, Mr. Lionel  36.0          0.0000\n",
            "302     Johnson, Mr. William Cahoone Jr  19.0          0.0000\n",
            "822     Reuchlin, Jonkheer. John George  38.0          0.0000\n",
            "806              Andrews, Mr. Thomas Jr  39.0          0.0000\n",
            "\n",
            "[395 rows x 3 columns]\n"
          ]
        }
      ]
    },
    {
      "cell_type": "code",
      "source": [
        "#Group-by Method Practice Exercise\n",
        "#Percentage by passenger class\n",
        "total_fare = titanic_df['Fare'].sum()\n",
        "first_class_fare = titanic_df[titanic_df['Pclass'] == 1]['Fare'].sum()\n",
        "second_class_fare = titanic_df[titanic_df['Pclass'] == 2]['Fare'].sum()\n",
        "third_class_fare = titanic_df[titanic_df['Pclass'] == 3]['Fare'].sum()\n",
        "\n",
        "fare_totals = [first_class_fare, second_class_fare, third_class_fare]\n",
        "fare_proportions = [fare / total_fare * 100 for fare in fare_totals]\n",
        "\n",
        "print(\" Percentage of Fare Revenue by Class\")\n",
        "for pclass, proportion in zip([1, 2, 3], fare_proportions):\n",
        "    print(f\"Class {pclass}: {proportion:.2f}%\")\n"
      ],
      "metadata": {
        "colab": {
          "base_uri": "https://localhost:8080/"
        },
        "id": "TLlEwDfaswpB",
        "outputId": "f644b0ea-d42a-483a-b37a-51018c1ff214"
      },
      "execution_count": 12,
      "outputs": [
        {
          "output_type": "stream",
          "name": "stdout",
          "text": [
            " Percentage of Fare Revenue by Class\n",
            "Class 1: 63.35%\n",
            "Class 2: 13.25%\n",
            "Class 3: 23.40%\n"
          ]
        }
      ]
    },
    {
      "cell_type": "code",
      "source": [
        "#Percentage by age group\n",
        "titanic_df['age_group'] = pd.cut(titanic_df['Age'],\n",
        "                                  bins=[0, 18, 64, float('inf')],\n",
        "                                  labels=['child', 'adult', 'senior'])\n",
        "\n",
        "total_passengers = len(titanic_df)\n",
        "age_group_counts = titanic_df['age_group'].value_counts()\n",
        "age_group_proportions = age_group_counts / total_passengers * 100\n",
        "\n",
        "print(\"Percentage of Passengers by Age Group\")\n",
        "print(age_group_proportions)"
      ],
      "metadata": {
        "colab": {
          "base_uri": "https://localhost:8080/"
        },
        "id": "UASchkictC6L",
        "outputId": "b5c11b66-e309-4e47-fcff-2b59d17214ad"
      },
      "execution_count": 13,
      "outputs": [
        {
          "output_type": "stream",
          "name": "stdout",
          "text": [
            "Percentage of Passengers by Age Group\n",
            "age_group\n",
            "adult     63.299663\n",
            "child     15.600449\n",
            "senior     1.234568\n",
            "Name: count, dtype: float64\n"
          ]
        }
      ]
    }
  ]
}